{
 "cells": [
  {
   "cell_type": "code",
   "execution_count": 7,
   "metadata": {},
   "outputs": [],
   "source": [
    "import numpy as np \n",
    "import tensorflow as tf \n",
    "from tensorflow.keras.datasets import imdb \n",
    "from tensorflow.keras.preprocessing import sequence \n",
    "from tensorflow.keras.models import load_model "
   ]
  },
  {
   "cell_type": "code",
   "execution_count": null,
   "metadata": {},
   "outputs": [],
   "source": []
  },
  {
   "cell_type": "code",
   "execution_count": 8,
   "metadata": {},
   "outputs": [],
   "source": [
    "## Loading the IMDB dataset word index \n",
    "word_index = imdb.get_word_index()\n",
    "reverse_word_index = { value : key for key, value in word_index.items() }"
   ]
  },
  {
   "cell_type": "code",
   "execution_count": 9,
   "metadata": {},
   "outputs": [
    {
     "name": "stderr",
     "output_type": "stream",
     "text": [
      "WARNING:absl:Compiled the loaded model, but the compiled metrics have yet to be built. `model.compile_metrics` will be empty until you train or evaluate the model.\n"
     ]
    },
    {
     "data": {
      "text/html": [
       "<pre style=\"white-space:pre;overflow-x:auto;line-height:normal;font-family:Menlo,'DejaVu Sans Mono',consolas,'Courier New',monospace\"><span style=\"font-weight: bold\">Model: \"sequential\"</span>\n",
       "</pre>\n"
      ],
      "text/plain": [
       "\u001b[1mModel: \"sequential\"\u001b[0m\n"
      ]
     },
     "metadata": {},
     "output_type": "display_data"
    },
    {
     "data": {
      "text/html": [
       "<pre style=\"white-space:pre;overflow-x:auto;line-height:normal;font-family:Menlo,'DejaVu Sans Mono',consolas,'Courier New',monospace\">┏━━━━━━━━━━━━━━━━━━━━━━━━━━━━━━━━━┳━━━━━━━━━━━━━━━━━━━━━━━━┳━━━━━━━━━━━━━━━┓\n",
       "┃<span style=\"font-weight: bold\"> Layer (type)                    </span>┃<span style=\"font-weight: bold\"> Output Shape           </span>┃<span style=\"font-weight: bold\">       Param # </span>┃\n",
       "┡━━━━━━━━━━━━━━━━━━━━━━━━━━━━━━━━━╇━━━━━━━━━━━━━━━━━━━━━━━━╇━━━━━━━━━━━━━━━┩\n",
       "│ embedding (<span style=\"color: #0087ff; text-decoration-color: #0087ff\">Embedding</span>)           │ (<span style=\"color: #00af00; text-decoration-color: #00af00\">32</span>, <span style=\"color: #00af00; text-decoration-color: #00af00\">500</span>, <span style=\"color: #00af00; text-decoration-color: #00af00\">128</span>)         │     <span style=\"color: #00af00; text-decoration-color: #00af00\">1,280,000</span> │\n",
       "├─────────────────────────────────┼────────────────────────┼───────────────┤\n",
       "│ simple_rnn (<span style=\"color: #0087ff; text-decoration-color: #0087ff\">SimpleRNN</span>)          │ (<span style=\"color: #00af00; text-decoration-color: #00af00\">32</span>, <span style=\"color: #00af00; text-decoration-color: #00af00\">128</span>)              │        <span style=\"color: #00af00; text-decoration-color: #00af00\">32,896</span> │\n",
       "├─────────────────────────────────┼────────────────────────┼───────────────┤\n",
       "│ dense (<span style=\"color: #0087ff; text-decoration-color: #0087ff\">Dense</span>)                   │ (<span style=\"color: #00af00; text-decoration-color: #00af00\">32</span>, <span style=\"color: #00af00; text-decoration-color: #00af00\">1</span>)                │           <span style=\"color: #00af00; text-decoration-color: #00af00\">129</span> │\n",
       "└─────────────────────────────────┴────────────────────────┴───────────────┘\n",
       "</pre>\n"
      ],
      "text/plain": [
       "┏━━━━━━━━━━━━━━━━━━━━━━━━━━━━━━━━━┳━━━━━━━━━━━━━━━━━━━━━━━━┳━━━━━━━━━━━━━━━┓\n",
       "┃\u001b[1m \u001b[0m\u001b[1mLayer (type)                   \u001b[0m\u001b[1m \u001b[0m┃\u001b[1m \u001b[0m\u001b[1mOutput Shape          \u001b[0m\u001b[1m \u001b[0m┃\u001b[1m \u001b[0m\u001b[1m      Param #\u001b[0m\u001b[1m \u001b[0m┃\n",
       "┡━━━━━━━━━━━━━━━━━━━━━━━━━━━━━━━━━╇━━━━━━━━━━━━━━━━━━━━━━━━╇━━━━━━━━━━━━━━━┩\n",
       "│ embedding (\u001b[38;5;33mEmbedding\u001b[0m)           │ (\u001b[38;5;34m32\u001b[0m, \u001b[38;5;34m500\u001b[0m, \u001b[38;5;34m128\u001b[0m)         │     \u001b[38;5;34m1,280,000\u001b[0m │\n",
       "├─────────────────────────────────┼────────────────────────┼───────────────┤\n",
       "│ simple_rnn (\u001b[38;5;33mSimpleRNN\u001b[0m)          │ (\u001b[38;5;34m32\u001b[0m, \u001b[38;5;34m128\u001b[0m)              │        \u001b[38;5;34m32,896\u001b[0m │\n",
       "├─────────────────────────────────┼────────────────────────┼───────────────┤\n",
       "│ dense (\u001b[38;5;33mDense\u001b[0m)                   │ (\u001b[38;5;34m32\u001b[0m, \u001b[38;5;34m1\u001b[0m)                │           \u001b[38;5;34m129\u001b[0m │\n",
       "└─────────────────────────────────┴────────────────────────┴───────────────┘\n"
      ]
     },
     "metadata": {},
     "output_type": "display_data"
    },
    {
     "data": {
      "text/html": [
       "<pre style=\"white-space:pre;overflow-x:auto;line-height:normal;font-family:Menlo,'DejaVu Sans Mono',consolas,'Courier New',monospace\"><span style=\"font-weight: bold\"> Total params: </span><span style=\"color: #00af00; text-decoration-color: #00af00\">1,313,027</span> (5.01 MB)\n",
       "</pre>\n"
      ],
      "text/plain": [
       "\u001b[1m Total params: \u001b[0m\u001b[38;5;34m1,313,027\u001b[0m (5.01 MB)\n"
      ]
     },
     "metadata": {},
     "output_type": "display_data"
    },
    {
     "data": {
      "text/html": [
       "<pre style=\"white-space:pre;overflow-x:auto;line-height:normal;font-family:Menlo,'DejaVu Sans Mono',consolas,'Courier New',monospace\"><span style=\"font-weight: bold\"> Trainable params: </span><span style=\"color: #00af00; text-decoration-color: #00af00\">1,313,025</span> (5.01 MB)\n",
       "</pre>\n"
      ],
      "text/plain": [
       "\u001b[1m Trainable params: \u001b[0m\u001b[38;5;34m1,313,025\u001b[0m (5.01 MB)\n"
      ]
     },
     "metadata": {},
     "output_type": "display_data"
    },
    {
     "data": {
      "text/html": [
       "<pre style=\"white-space:pre;overflow-x:auto;line-height:normal;font-family:Menlo,'DejaVu Sans Mono',consolas,'Courier New',monospace\"><span style=\"font-weight: bold\"> Non-trainable params: </span><span style=\"color: #00af00; text-decoration-color: #00af00\">0</span> (0.00 B)\n",
       "</pre>\n"
      ],
      "text/plain": [
       "\u001b[1m Non-trainable params: \u001b[0m\u001b[38;5;34m0\u001b[0m (0.00 B)\n"
      ]
     },
     "metadata": {},
     "output_type": "display_data"
    },
    {
     "data": {
      "text/html": [
       "<pre style=\"white-space:pre;overflow-x:auto;line-height:normal;font-family:Menlo,'DejaVu Sans Mono',consolas,'Courier New',monospace\"><span style=\"font-weight: bold\"> Optimizer params: </span><span style=\"color: #00af00; text-decoration-color: #00af00\">2</span> (12.00 B)\n",
       "</pre>\n"
      ],
      "text/plain": [
       "\u001b[1m Optimizer params: \u001b[0m\u001b[38;5;34m2\u001b[0m (12.00 B)\n"
      ]
     },
     "metadata": {},
     "output_type": "display_data"
    }
   ],
   "source": [
    "## Loading the model \n",
    "model = load_model(\"../Artifacts/simple_rnn_model.h5\")\n",
    "model.summary()"
   ]
  },
  {
   "cell_type": "code",
   "execution_count": 10,
   "metadata": {},
   "outputs": [
    {
     "data": {
      "text/plain": [
       "[array([[-0.03660562, -0.01702058,  0.02722271, ...,  0.03646998,\n",
       "          0.05222734,  0.05292444],\n",
       "        [-0.03679562, -0.01405769,  0.02788727, ..., -0.00371828,\n",
       "          0.05125342,  0.02252391],\n",
       "        [ 0.01490329, -0.02665103,  0.02798735, ..., -0.00676784,\n",
       "         -0.01782404,  0.02378776],\n",
       "        ...,\n",
       "        [ 0.05046213,  0.01857152,  0.01674254, ...,  0.00106115,\n",
       "         -0.0561483 , -0.02731906],\n",
       "        [ 0.03719272, -0.04136096,  0.06292671, ...,  0.06051617,\n",
       "          0.0580599 ,  0.02012035],\n",
       "        [-0.01922331,  0.02735463, -0.00388294, ...,  0.0186749 ,\n",
       "         -0.05158233,  0.05608165]], dtype=float32),\n",
       " array([[ 0.1214261 , -0.01217424, -0.09903112, ...,  0.12383671,\n",
       "         -0.01142276, -0.16031095],\n",
       "        [ 0.14331746, -0.04558915,  0.13300449, ..., -0.04304577,\n",
       "         -0.0426628 , -0.06537458],\n",
       "        [-0.02024544, -0.16123836,  0.0641025 , ...,  0.01644875,\n",
       "          0.07313658, -0.14853707],\n",
       "        ...,\n",
       "        [-0.12133652,  0.06731115,  0.15486376, ..., -0.03361762,\n",
       "          0.14372586, -0.01820117],\n",
       "        [-0.11841883,  0.10627544,  0.10843039, ..., -0.07787517,\n",
       "          0.12375294,  0.07780777],\n",
       "        [ 0.06999128, -0.0523996 , -0.09033778, ...,  0.10129777,\n",
       "          0.02739765,  0.07582427]], dtype=float32),\n",
       " array([[ 0.05866538,  0.01173996,  0.08978338, ..., -0.08111151,\n",
       "          0.17018634,  0.0790226 ],\n",
       "        [ 0.13566726, -0.01707593,  0.00689806, ...,  0.0791179 ,\n",
       "         -0.05531079,  0.04580256],\n",
       "        [-0.0326276 ,  0.0359941 ,  0.01565001, ...,  0.02680206,\n",
       "         -0.0768016 , -0.24562769],\n",
       "        ...,\n",
       "        [-0.10663338, -0.07828218, -0.01793587, ...,  0.08974751,\n",
       "         -0.0038349 , -0.00914062],\n",
       "        [-0.23346998, -0.04098496,  0.04880039, ...,  0.02695744,\n",
       "          0.03040406, -0.05719828],\n",
       "        [-0.03157831,  0.15298744, -0.00302083, ...,  0.13032408,\n",
       "          0.10785306,  0.41309553]], dtype=float32),\n",
       " array([ 8.62941612e-03,  1.47460103e-02,  3.42874485e-03, -2.55984589e-02,\n",
       "        -1.86533127e-02, -1.64887775e-02,  2.39174566e-04,  1.08723920e-02,\n",
       "         1.06456992e-03, -9.87405702e-03, -1.28212618e-02, -2.06494122e-03,\n",
       "         8.53531019e-05, -7.14652659e-03, -6.65228465e-04,  2.54569051e-04,\n",
       "        -4.90857987e-03, -1.67383794e-02,  1.38682500e-02,  1.12659037e-02,\n",
       "        -9.83096380e-03, -9.66485869e-03, -7.24006398e-03, -1.47328700e-03,\n",
       "         1.76052563e-02,  9.85602383e-03, -1.31644448e-02,  1.80961601e-02,\n",
       "         1.81310065e-02, -6.08683983e-03,  1.12406467e-03, -1.19233606e-02,\n",
       "        -2.43468825e-02, -1.98422372e-03, -1.24003051e-03,  3.34348856e-03,\n",
       "        -1.95616167e-02, -9.41701885e-03,  1.29600158e-02, -6.95176749e-03,\n",
       "         3.17103975e-03, -2.07780022e-02,  1.07229948e-02, -1.42051568e-02,\n",
       "        -5.00021968e-03, -1.16940709e-02,  8.82709119e-03, -2.15128288e-02,\n",
       "         1.05283530e-02, -2.59444304e-03, -6.06014067e-03, -4.94200503e-03,\n",
       "         2.95497924e-02, -1.44094108e-02, -2.37862617e-02, -3.12933279e-03,\n",
       "         1.24071902e-02, -7.03580538e-03,  2.83135730e-03, -9.92489792e-03,\n",
       "        -1.65844690e-02, -2.17702445e-02, -2.14488003e-02, -1.25431130e-03,\n",
       "         1.40879042e-02, -1.18392231e-02, -4.97476058e-03,  1.33035928e-02,\n",
       "        -6.65484287e-04,  1.40329050e-02,  7.12836441e-03, -1.96514130e-02,\n",
       "         1.03053742e-03, -9.23846290e-03,  3.91113805e-03,  2.01132260e-02,\n",
       "        -1.61616020e-02, -9.11355484e-03, -1.29984580e-02, -1.63650909e-03,\n",
       "         8.30677431e-03, -2.05349345e-02,  1.91752091e-02,  2.12283656e-02,\n",
       "        -8.27744324e-03, -1.03378175e-02,  2.14194469e-02, -2.51252968e-02,\n",
       "        -4.47942037e-03, -2.35781409e-02, -1.69771053e-02, -2.58324482e-02,\n",
       "        -4.32540663e-03, -1.17867235e-02, -1.00029875e-02,  4.36062273e-03,\n",
       "         3.72113986e-03,  8.42689443e-03, -3.63855134e-03, -1.50538981e-02,\n",
       "         2.76933443e-02, -3.62254642e-02, -6.94586663e-03,  1.11805676e-02,\n",
       "        -5.14628273e-03, -1.66448560e-02,  1.38751017e-02, -6.58717426e-03,\n",
       "         1.31093832e-02, -4.27958742e-02,  2.64424812e-02, -3.41532216e-03,\n",
       "        -1.28950635e-02,  1.53928231e-02, -1.09494645e-02, -2.68948488e-02,\n",
       "        -2.25183163e-02, -1.86722558e-02,  1.07228514e-02,  2.40144860e-02,\n",
       "         2.07135044e-02,  1.43974423e-02, -9.61901527e-03, -8.23551789e-03,\n",
       "         1.09435916e-02, -3.05810608e-02, -1.25401299e-02, -2.14954112e-02],\n",
       "       dtype=float32),\n",
       " array([[-0.3004144 ],\n",
       "        [ 0.19271043],\n",
       "        [ 0.20446762],\n",
       "        [-0.00558574],\n",
       "        [-0.16353273],\n",
       "        [ 0.17348522],\n",
       "        [-0.13780752],\n",
       "        [-0.01146348],\n",
       "        [-0.3082733 ],\n",
       "        [-0.3334426 ],\n",
       "        [-0.08688574],\n",
       "        [-0.04087451],\n",
       "        [-0.07374625],\n",
       "        [-0.09653763],\n",
       "        [-0.21999645],\n",
       "        [-0.3753784 ],\n",
       "        [-0.07917193],\n",
       "        [-0.00608052],\n",
       "        [-0.09375996],\n",
       "        [ 0.11427884],\n",
       "        [-0.4416501 ],\n",
       "        [-0.01100958],\n",
       "        [-0.06506379],\n",
       "        [ 0.19277929],\n",
       "        [ 0.22049679],\n",
       "        [ 0.0825395 ],\n",
       "        [-0.48130986],\n",
       "        [ 0.18590981],\n",
       "        [-0.7099689 ],\n",
       "        [ 0.14175996],\n",
       "        [-0.03580279],\n",
       "        [-0.14634441],\n",
       "        [ 0.156442  ],\n",
       "        [-0.18851835],\n",
       "        [ 0.1836354 ],\n",
       "        [ 0.23093219],\n",
       "        [ 0.19709767],\n",
       "        [-0.35488704],\n",
       "        [ 0.03739116],\n",
       "        [-0.10293511],\n",
       "        [ 0.17683633],\n",
       "        [ 0.01339067],\n",
       "        [-0.23986553],\n",
       "        [-0.20634173],\n",
       "        [-0.01071492],\n",
       "        [ 0.5550059 ],\n",
       "        [ 0.41255212],\n",
       "        [ 0.12849078],\n",
       "        [-0.05780744],\n",
       "        [ 0.43684322],\n",
       "        [-0.07407535],\n",
       "        [-0.15545784],\n",
       "        [ 0.4848077 ],\n",
       "        [ 0.05811579],\n",
       "        [ 0.38354   ],\n",
       "        [-0.21241125],\n",
       "        [-0.19825299],\n",
       "        [ 0.16731177],\n",
       "        [-0.171465  ],\n",
       "        [-0.22740908],\n",
       "        [-0.16700217],\n",
       "        [-0.10235675],\n",
       "        [ 0.24282125],\n",
       "        [ 0.08651967],\n",
       "        [ 0.25353014],\n",
       "        [-0.01222636],\n",
       "        [ 0.01756267],\n",
       "        [-0.2733554 ],\n",
       "        [-0.32697755],\n",
       "        [ 0.07440197],\n",
       "        [-0.68168455],\n",
       "        [-0.02084101],\n",
       "        [ 0.5514925 ],\n",
       "        [-0.03426639],\n",
       "        [-0.16972986],\n",
       "        [ 0.453797  ],\n",
       "        [ 0.04793527],\n",
       "        [-0.20085233],\n",
       "        [-0.17789951],\n",
       "        [-0.11452695],\n",
       "        [ 0.1437577 ],\n",
       "        [ 0.12241296],\n",
       "        [ 0.16872594],\n",
       "        [ 0.36848018],\n",
       "        [ 0.2066076 ],\n",
       "        [-0.19916254],\n",
       "        [ 0.19049712],\n",
       "        [-0.40809184],\n",
       "        [-0.12380455],\n",
       "        [-0.24537353],\n",
       "        [-0.18988286],\n",
       "        [ 0.02415263],\n",
       "        [ 0.18890387],\n",
       "        [ 0.10072668],\n",
       "        [ 0.01856934],\n",
       "        [-0.18974927],\n",
       "        [-0.10842577],\n",
       "        [-0.37568235],\n",
       "        [-0.19999078],\n",
       "        [ 0.11967178],\n",
       "        [-0.1134074 ],\n",
       "        [-0.027607  ],\n",
       "        [-0.0893373 ],\n",
       "        [-0.16384901],\n",
       "        [-0.00195357],\n",
       "        [-0.11212167],\n",
       "        [ 0.13174772],\n",
       "        [-0.17748025],\n",
       "        [ 0.0404916 ],\n",
       "        [-0.36691704],\n",
       "        [ 0.13719407],\n",
       "        [-0.3183388 ],\n",
       "        [-0.14897756],\n",
       "        [-0.61647946],\n",
       "        [-0.07659516],\n",
       "        [ 0.01704395],\n",
       "        [-0.06768749],\n",
       "        [-0.18622418],\n",
       "        [ 0.09663159],\n",
       "        [ 0.21079054],\n",
       "        [ 0.2669191 ],\n",
       "        [-0.13731489],\n",
       "        [-0.09179723],\n",
       "        [ 0.22893688],\n",
       "        [ 0.16714258],\n",
       "        [ 0.08489735],\n",
       "        [-0.17140013],\n",
       "        [ 0.2733    ]], dtype=float32),\n",
       " array([-0.4416042], dtype=float32)]"
      ]
     },
     "execution_count": 10,
     "metadata": {},
     "output_type": "execute_result"
    }
   ],
   "source": [
    "model.get_weights()"
   ]
  },
  {
   "cell_type": "code",
   "execution_count": 11,
   "metadata": {},
   "outputs": [],
   "source": [
    "## Creating helper functions \n",
    "\n",
    "# function to decode the review\n",
    "def decode_review(encoded_review):\n",
    "    return ' '.join([reverse_word_index.get(i - 3, \"?\") for i in encoded_review])\n",
    "\n",
    "# function tp preprocess user input \n",
    "def preprocess_text(text):\n",
    "    words = text.lower().split()\n",
    "    encoded_review = [word_index.get(word,2) + 3 for word in words]\n",
    "    padding_review = sequence.pad_sequences([encoded_review], maxlen=500)\n",
    "    return padding_review"
   ]
  },
  {
   "cell_type": "code",
   "execution_count": 14,
   "metadata": {},
   "outputs": [],
   "source": [
    "## Prediction function \n",
    "def predict_sentiment(review):\n",
    "    preprocessed_input = preprocess_text(review)\n",
    "    prediction = model.predict(preprocessed_input)\n",
    "    sentiment = \"Positive\" if prediction[0][0] > 0.5 else \"Negative\"\n",
    "    return sentiment, prediction[0][0]"
   ]
  },
  {
   "cell_type": "code",
   "execution_count": 16,
   "metadata": {},
   "outputs": [
    {
     "name": "stdout",
     "output_type": "stream",
     "text": [
      "\u001b[1m1/1\u001b[0m \u001b[32m━━━━━━━━━━━━━━━━━━━━\u001b[0m\u001b[37m\u001b[0m \u001b[1m0s\u001b[0m 87ms/step\n",
      "Example Review : This movie was fantastic! the acting was great and the plot was thrilling\n",
      "Sentiment : Positive\n",
      "Prediction Score : 0.5504382252693176\n"
     ]
    }
   ],
   "source": [
    "## User input and predcition \n",
    "example_review = \"This movie was fantastic! the acting was great and the plot was thrilling\"\n",
    "sentiment, score = predict_sentiment(example_review)\n",
    "\n",
    "print(f\"Example Review : {example_review}\")\n",
    "print(f\"Sentiment : {sentiment}\")\n",
    "print(f\"Prediction Score : {score}\")"
   ]
  },
  {
   "cell_type": "code",
   "execution_count": 21,
   "metadata": {},
   "outputs": [
    {
     "name": "stdout",
     "output_type": "stream",
     "text": [
      "\u001b[1m1/1\u001b[0m \u001b[32m━━━━━━━━━━━━━━━━━━━━\u001b[0m\u001b[37m\u001b[0m \u001b[1m0s\u001b[0m 27ms/step\n",
      "Example Review : This movie was scary and I didn't like it but the critics is good\n",
      "Sentiment : Positive\n",
      "Prediction Score : 0.6320735216140747\n"
     ]
    }
   ],
   "source": [
    "## User input and predcition \n",
    "example_review = \"This movie was scary and I didn't like it but the critics is good\"\n",
    "sentiment, score = predict_sentiment(example_review)\n",
    "\n",
    "print(f\"Example Review : {example_review}\")\n",
    "print(f\"Sentiment : {sentiment}\")\n",
    "print(f\"Prediction Score : {score}\")"
   ]
  },
  {
   "cell_type": "code",
   "execution_count": null,
   "metadata": {},
   "outputs": [],
   "source": []
  }
 ],
 "metadata": {
  "kernelspec": {
   "display_name": "mrvenv",
   "language": "python",
   "name": "python3"
  },
  "language_info": {
   "codemirror_mode": {
    "name": "ipython",
    "version": 3
   },
   "file_extension": ".py",
   "mimetype": "text/x-python",
   "name": "python",
   "nbconvert_exporter": "python",
   "pygments_lexer": "ipython3",
   "version": "3.12.0"
  }
 },
 "nbformat": 4,
 "nbformat_minor": 2
}
